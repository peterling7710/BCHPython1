{
 "cells": [
  {
   "cell_type": "markdown",
   "metadata": {
    "colab_type": "text",
    "id": "8sNLUmXqhc69"
   },
   "source": [
    "<h1>Python 1 - Overview</h1>\n",
    "<p>\n",
    "  Bootcamp will cover Python fundamentals while making a music playlist program\n",
    "</p>\n",
    "<ul>\n",
    "<li>Evaluating primitive types in python: type()</li>\n",
    "<li>Declaring variables and variable declaration conventions: =</li>\n",
    "<li>Math Operators and string concatenation: (+ , - , * , /,%)</li>\n",
    "<li>IF and WHILE statements with conditional operators: (==, >, >=, break)</li>\n",
    "<li>User input: input()</li>\n",
    "<li>Data collections - Lists: ([ ], append(), insert(), del, pop(), len(), sort())</li>\n",
    "<li>Data collections - Dictionaries: ({ },[ ], insert(), del, clear(), keys(), values())</li>\n",
    "<li>Declaring custom functions: def, return</li>\n",
    "<li>Classes and object oriented programming: class(), __init__(), methods</li>\n",
    "<li>Automating with FOR loops: for, in</li>\n",
    "</ul>"
   ]
  },
  {
   "cell_type": "markdown",
   "metadata": {},
   "source": [
    "## Jupyter Notebook \n",
    "\n",
    "This is a web-based application (runs in the browser) that is used to interpret Python code. \n",
    "\n",
    "- To add more code cells (or blocks) click on the **'+'** button in the top left corner\n",
    "- There are 3 cell types in Jupyter:\n",
    "    - Code: Used to write Python code\n",
    "    - Markdown: Used to write texts (can be used to write explanations and other key information)\n",
    "    - NBConvert: Used convert Jupyter (.ipynb) files to other formats (HTML, LaTex, etc.) \n",
    "    \n",
    "\n",
    "- To run Python code in a specific cell, you can click on the **'Run'** button at the top or press **Shift + Enter**\n",
    "- The number sign (#) is used to insert comments when coding to leave messages for yourself or others. These comments will not be interpreted as code and are overlooked by the program\n"
   ]
  },
  {
   "cell_type": "markdown",
   "metadata": {},
   "source": [
    "<img src=\"images/jupyter_visual.png\"/>"
   ]
  },
  {
   "cell_type": "markdown",
   "metadata": {
    "colab_type": "text",
    "id": "jhRJHIQuaK1z"
   },
   "source": [
    "<h1>Data Types</h1>\n",
    "<ul>\n",
    "  <li>\n",
    "   Four primitive types in Python\n",
    "    <ol>\n",
    "      <li>\n",
    "        Integers\n",
    "      </li>\n",
    "      <li>\n",
    "        Booleans\n",
    "      </li>\n",
    "      <li>\n",
    "        Floats\n",
    "      </li>\n",
    "      <li>\n",
    "        Strings\n",
    "      </li>\n",
    "    </ol>\n",
    " <li>\n",
    "   Types may be changed using int(), str(), float(), and bool() methods    \n",
    " </li>\n",
    "</ul>"
   ]
  },
  {
   "cell_type": "code",
   "execution_count": 1,
   "metadata": {
    "colab": {
     "base_uri": "https://localhost:8080/",
     "height": 35
    },
    "colab_type": "code",
    "id": "Jp-u-3UuaK2I",
    "outputId": "8c4333e2-77af-4633-e4b6-d6d86bf5c871"
   },
   "outputs": [
    {
     "data": {
      "text/plain": [
       "str"
      ]
     },
     "execution_count": 1,
     "metadata": {},
     "output_type": "execute_result"
    }
   ],
   "source": [
    "# The type() function will return the data type of the data passed to it\n",
    "\n",
    "type(\"Hello!\")\n",
    "\n"
   ]
  },
  {
   "cell_type": "code",
   "execution_count": 2,
   "metadata": {
    "colab": {
     "base_uri": "https://localhost:8080/",
     "height": 35
    },
    "colab_type": "code",
    "id": "QGvw_Ps9aK2T",
    "outputId": "e853a29a-0176-4f60-d496-4917504ebdf0"
   },
   "outputs": [
    {
     "data": {
      "text/plain": [
       "bool"
      ]
     },
     "execution_count": 2,
     "metadata": {},
     "output_type": "execute_result"
    }
   ],
   "source": [
    "type(True)\n",
    "\n"
   ]
  },
  {
   "cell_type": "code",
   "execution_count": 3,
   "metadata": {
    "colab": {
     "base_uri": "https://localhost:8080/",
     "height": 35
    },
    "colab_type": "code",
    "id": "jyf7Dd--aK2d",
    "outputId": "a62bbb58-99c9-4042-e718-c72288107072"
   },
   "outputs": [
    {
     "data": {
      "text/plain": [
       "float"
      ]
     },
     "execution_count": 3,
     "metadata": {},
     "output_type": "execute_result"
    }
   ],
   "source": [
    "type(3.14)\n",
    "\n"
   ]
  },
  {
   "cell_type": "code",
   "execution_count": 4,
   "metadata": {},
   "outputs": [
    {
     "data": {
      "text/plain": [
       "int"
      ]
     },
     "execution_count": 4,
     "metadata": {},
     "output_type": "execute_result"
    }
   ],
   "source": [
    "type(3)\n",
    "\n"
   ]
  },
  {
   "cell_type": "code",
   "execution_count": 5,
   "metadata": {
    "colab": {
     "base_uri": "https://localhost:8080/",
     "height": 91
    },
    "colab_type": "code",
    "id": "6feLqUTLaK13",
    "outputId": "4c33814a-6c09-4cea-922e-107c4373b180"
   },
   "outputs": [
    {
     "name": "stdout",
     "output_type": "stream",
     "text": [
      "<class 'float'>\n",
      "3\n"
     ]
    }
   ],
   "source": [
    "# Casting - converting from one data type to another\n",
    "print(type(float(3)))\n",
    "print(int(3.55))"
   ]
  },
  {
   "cell_type": "code",
   "execution_count": 6,
   "metadata": {},
   "outputs": [
    {
     "name": "stdout",
     "output_type": "stream",
     "text": [
      "False\n"
     ]
    }
   ],
   "source": [
    "# Try to cast a string to a boolean so that it returns false\n",
    "print(bool(''))"
   ]
  },
  {
   "cell_type": "code",
   "execution_count": 7,
   "metadata": {},
   "outputs": [
    {
     "name": "stdout",
     "output_type": "stream",
     "text": [
      "False\n"
     ]
    }
   ],
   "source": [
    "# Try to cast an int to a boolean so that it returns false\n",
    "print(bool(0))"
   ]
  },
  {
   "cell_type": "markdown",
   "metadata": {
    "colab_type": "text",
    "id": "Ct1Ouj3TaK2r"
   },
   "source": [
    "<h1>Variables</h1>\n",
    "<ul>\n",
    "  <li>\n",
    "    May consist of letters, numbers, and underscores, but not spaces.\n",
    "    <ul>\n",
    "      <li>\n",
    "        <b>Cannot start with a number.</b>\n",
    "      </li>\n",
    "    </ul>\n",
    "  </li>\n",
    "  <li>\n",
    "    Avoid using Python keywords (for, if, and, or, etc.)\n",
    "</li>\n",
    "  <li>\n",
    "    Be careful when using 1s and lower case ls, as well as 0s and Os.\n",
    "</li>\n",
    "  <li>\n",
    "    Keep it short.\n",
    "  <li>\n",
    "    Example: phone_num = 647606\n",
    "  <li>\n",
    "    In Jupyter, we need to be very careful when running cells when we use variables!\n",
    "</li>\n",
    "    \n",
    "</ul>"
   ]
  },
  {
   "cell_type": "code",
   "execution_count": 8,
   "metadata": {
    "colab": {},
    "colab_type": "code",
    "id": "kUVrpEDraK2v"
   },
   "outputs": [],
   "source": [
    "# In the code below, the variable `hours_worked` has been assigned\n",
    "# an integer value of 10.\n",
    "hours_worked = 10\n",
    "\n"
   ]
  },
  {
   "cell_type": "code",
   "execution_count": 9,
   "metadata": {
    "colab": {
     "base_uri": "https://localhost:8080/",
     "height": 35
    },
    "colab_type": "code",
    "id": "wDL9Snj3aK22",
    "outputId": "4f5fadfe-a338-4517-cd27-85b75bcb81a9"
   },
   "outputs": [
    {
     "name": "stdout",
     "output_type": "stream",
     "text": [
      "10\n"
     ]
    }
   ],
   "source": [
    "print(hours_worked)\n"
   ]
  },
  {
   "cell_type": "markdown",
   "metadata": {
    "colab_type": "text",
    "id": "quOCg51naK3Q"
   },
   "source": [
    "<h1>Math Operators</h1>\n",
    "<ul>\n",
    "  <li>\n",
    "    Addition, Subtration, Multiplication and Division may be done using basic math operators (+ , - , * , /,%).\n",
    "  </li>\n",
    "  <li>\n",
    "    Python will also try to interpret your code with other data types\n",
    "  </li>\n",
    "  <ul>\n",
    "      <li>(+) may be used with strings!\n",
    "      <li> However, the usability is limited, instead we will introduce functions\n",
    "      </li></ul>\n",
    "</ul>"
   ]
  },
  {
   "cell_type": "code",
   "execution_count": 10,
   "metadata": {
    "colab": {
     "base_uri": "https://localhost:8080/",
     "height": 35
    },
    "colab_type": "code",
    "id": "efJPyToyaK3U",
    "outputId": "3d79ac55-db32-4416-d207-9ea50278d22a"
   },
   "outputs": [
    {
     "name": "stdout",
     "output_type": "stream",
     "text": [
      "5.91\n"
     ]
    }
   ],
   "source": [
    "# Create two variables, price1 and price2 that have float values representing the respective price of two items\n",
    "price1 = 3.40\n",
    "price2 = 2.51\n",
    "\n",
    "# Create a new variable whose value is the sum of the prices\n",
    "tot_price = price1 + price2\n",
    "# Python can perform all the typical mathematical operations\n",
    "diff_price = price1 - price2\n",
    "mult_price = price1 * price2\n",
    "div_price = price1 / price2\n",
    "print(tot_price)\n"
   ]
  },
  {
   "cell_type": "markdown",
   "metadata": {},
   "source": [
    "<h1>Functions</h1>\n",
    "<ul>\n",
    "  <li>\n",
    "   We cannot perform all math on strings, as it sometimes doesn't make sense\n",
    "  <li>\n",
    "   Instead we use functions, prewritten sets of instructions\n",
    "  <li>\n",
    "      To use a function on a string, we use the <b>dot operator</b>\n",
    "  </li>\n",
    "  <li>\n",
    "      The general form will be <i>string_variable<b>.</b>function_name(function_arguments)</i>\n",
    "    </li>\n",
    "  <li>We'll talk more about functions later in the session</li>\n",
    "</ul>"
   ]
  },
  {
   "cell_type": "code",
   "execution_count": 11,
   "metadata": {
    "colab": {
     "base_uri": "https://localhost:8080/",
     "height": 128
    },
    "colab_type": "code",
    "id": "jCnJQgJfaK3u",
    "outputId": "e7043840-dfc4-4a90-e93c-a6affac428c0"
   },
   "outputs": [
    {
     "name": "stdout",
     "output_type": "stream",
     "text": [
      "I Work With Python\n",
      "i work with python\n",
      "2\n",
      "['I', 'work', 'with', 'python']\n",
      "I work with Finance\n"
     ]
    }
   ],
   "source": [
    "#A few string functions\n",
    "employment = \"I work with python\"\n",
    "print(employment.title())\n",
    "print(employment.lower())\n",
    "\n",
    "print(employment.index(\"work\"))\n",
    "print(employment.split(\" \"))\n",
    "print(employment.replace(\"python\", \"Finance\"))\n",
    "\n"
   ]
  },
  {
   "cell_type": "code",
   "execution_count": 12,
   "metadata": {
    "colab": {
     "base_uri": "https://localhost:8080/",
     "height": 35
    },
    "colab_type": "code",
    "id": "E-TeGGXnGD7R",
    "outputId": "573d8e23-f7d4-42a7-abee-64b7e8449cac"
   },
   "outputs": [
    {
     "name": "stdout",
     "output_type": "stream",
     "text": [
      "Seamus works with PYTHON\n"
     ]
    }
   ],
   "source": [
    "# With F strings, variables go directly into a string! Even methods!\n",
    "name = \"Seamus\"\n",
    "tool = \"python\"\n",
    "print(f\"{name} works with {tool.upper()}\")\n"
   ]
  },
  {
   "cell_type": "code",
   "execution_count": 13,
   "metadata": {
    "colab": {},
    "colab_type": "code",
    "id": "QauC6EX6aK31"
   },
   "outputs": [],
   "source": [
    "# A boolean can only have one of two values. Either they are \"True\" or \"False\". \n",
    "# Variables \"yes\" and \"no\" have been assigned boolean variables of \"True\" and \"False\", respectively.\n",
    "\n",
    "yes = True\n",
    "no = False\n"
   ]
  },
  {
   "cell_type": "markdown",
   "metadata": {
    "colab_type": "text",
    "id": "rFpvvS7saK38"
   },
   "source": [
    "<h1>IF and WHILE Statements</h1>\n",
    "<ul>\n",
    "  <li>\n",
    "    Will only run indented code if condition is true\n",
    "  <li>\n",
    "    Make use of <b>conditional operators</b> to create tests\n",
    "  </li>\n",
    "  <ul><li>(==) will return true if both variables are equal</li>\n",
    "  <li>(>) will return true if left variable is larger</li>\n",
    "  <li>(>=) will return if left variable is larger or equal to right variable</li></ul>\n",
    "  <li>IF will only run indented code once, WHILE will run indented code until condition is no longer true</li>\n",
    "</ul>"
   ]
  },
  {
   "cell_type": "code",
   "execution_count": 14,
   "metadata": {
    "colab": {
     "base_uri": "https://localhost:8080/",
     "height": 35
    },
    "colab_type": "code",
    "id": "HMuXwq6NaK3_",
    "outputId": "0445dd07-47af-4e8b-b1bb-c39b52142091"
   },
   "outputs": [
    {
     "name": "stdout",
     "output_type": "stream",
     "text": [
      "True Statement!\n"
     ]
    }
   ],
   "source": [
    "# Boolean variables are generally used for conditional statements such as an if statement.\n",
    "# The below lines of code uses boolean variables to determine whether or not the following functions will run.\n",
    "if yes:\n",
    "    print(\"True Statement!\")\n",
    "\n",
    "if no:\n",
    "    print(\"Will not print\")\n",
    "  \n",
    "  "
   ]
  },
  {
   "cell_type": "code",
   "execution_count": 15,
   "metadata": {
    "colab": {},
    "colab_type": "code",
    "id": "80LZUxeP4VmU"
   },
   "outputs": [],
   "source": [
    "#New variable to keep track of total number of employees\n",
    "dept_size = 10\n"
   ]
  },
  {
   "cell_type": "code",
   "execution_count": 16,
   "metadata": {
    "colab": {
     "base_uri": "https://localhost:8080/",
     "height": 35
    },
    "colab_type": "code",
    "id": "QX4EgJbvaK4p",
    "outputId": "ba11bf06-7bf2-40d5-89a0-a7f371987765"
   },
   "outputs": [
    {
     "name": "stdout",
     "output_type": "stream",
     "text": [
      "Small Department: 10\n"
     ]
    }
   ],
   "source": [
    "# if else statments can also be used with math or anything really (like strings)!\n",
    "\n",
    "if dept_size >=0 and dept_size < 20:\n",
    "    print(f\"Small Department: {dept_size}\")\n",
    "elif dept_size < 50:\n",
    "    print(f\"Medium Department: {dept_size}\")\n",
    "else:\n",
    "    print(f\"Large Department: {dept_size}\")\n",
    "    "
   ]
  },
  {
   "cell_type": "code",
   "execution_count": 17,
   "metadata": {
    "colab": {
     "base_uri": "https://localhost:8080/",
     "height": 350
    },
    "colab_type": "code",
    "id": "QZQ-MCx_S3yM",
    "outputId": "97d4d94b-d1f6-4069-9311-7f81fc7b71d0"
   },
   "outputs": [
    {
     "name": "stdout",
     "output_type": "stream",
     "text": [
      "0\n",
      "1\n",
      "2\n",
      "3\n",
      "4\n",
      "5\n",
      "6\n",
      "7\n"
     ]
    }
   ],
   "source": [
    "# While loops will keep running a loop of code until the intial condition is no longer true\n",
    "# It is important to always have a breaking condition to stop the loop so it does not run infinitely\n",
    "limit = 10\n",
    "dept_size = 0\n",
    "while dept_size < limit:\n",
    "    print(dept_size)\n",
    "    dept_size += 1\n",
    "    \n",
    "    if dept_size == 8:\n",
    "        break # The 'break' statement in Python is used to close/end a loop\n",
    "    \n",
    "    "
   ]
  },
  {
   "cell_type": "markdown",
   "metadata": {
    "colab_type": "text",
    "id": "ltbJVmjiaK46"
   },
   "source": [
    "<h1>Lists</h1>\n",
    "<ul>\n",
    "  <li>\n",
    "   Collection of items in a particular order\n",
    "  <li>\n",
    "   They are used to store data and can be assigned to variables just like integers and strings\n",
    "  <li>\n",
    "   Indexing (order) starts from <b>0</b>\n",
    "  </li>\n",
    "  <li>Accessing items in a list can be done with square brackets ([ ])</li>\n",
    "  <li>Items can be easily added to lists using append() and insert() methods</li>\n",
    "</ul>"
   ]
  },
  {
   "cell_type": "code",
   "execution_count": 18,
   "metadata": {
    "colab": {
     "base_uri": "https://localhost:8080/",
     "height": 146
    },
    "colab_type": "code",
    "id": "nZxyZjjraK47",
    "outputId": "509c01af-20f1-4565-8063-a5182652a00f"
   },
   "outputs": [
    {
     "name": "stdout",
     "output_type": "stream",
     "text": [
      "RBC\n",
      "BMO\n",
      "['RBC', 'CIBC', 'TD']\n",
      "['RBC']\n",
      "['TD', 'BMO']\n",
      "BMO\n",
      "['Scotiabank', 'CIBC', 'TD', 'BMO']\n"
     ]
    }
   ],
   "source": [
    "# Lists are a collection of data. List numberings always start from 0.\n",
    "\n",
    "banks = [\"RBC\", \"CIBC\", \"TD\", \"BMO\"]\n",
    "print(banks[0]) # Here the first item in the list is at index 0\n",
    "print(banks[3]) # The third item in the list is at index 4\n",
    "\n",
    "#Can use a colon to indicate range of indices\n",
    "print(banks[0:3]) # From the first to third item\n",
    "print(banks[:1])\n",
    "print(banks[2:]) \n",
    "\n",
    "#Negative indexing goes from Right to Left, starting from -1\n",
    "print(banks[-1])\n",
    "\n",
    "#Reassign values with square brackets as well\n",
    "banks[0] = \"Scotiabank\"\n",
    "print(banks)\n",
    "\n",
    "#Cannot do artists[4]  = \"\" \n"
   ]
  },
  {
   "cell_type": "code",
   "execution_count": 19,
   "metadata": {
    "colab": {
     "base_uri": "https://localhost:8080/",
     "height": 72
    },
    "colab_type": "code",
    "id": "YwkCQnKtW904",
    "outputId": "3b5cc3cc-6762-4a54-96b2-712db6aefe79"
   },
   "outputs": [
    {
     "name": "stdout",
     "output_type": "stream",
     "text": [
      "['Scotiabank', 'CIBC', 'TD', 'BMO', 'CWB']\n"
     ]
    }
   ],
   "source": [
    "# add value to end of a list - Canadian Western Bank\n",
    "# The .append() function can be used!\n",
    "banks.append(\"CWB\") \n",
    "print(banks)\n"
   ]
  },
  {
   "cell_type": "code",
   "execution_count": 20,
   "metadata": {},
   "outputs": [
    {
     "name": "stdout",
     "output_type": "stream",
     "text": [
      "['FNBC', 'Scotiabank', 'CIBC', 'TD', 'BMO', 'CWB']\n"
     ]
    },
    {
     "data": {
      "text/plain": [
       "6"
      ]
     },
     "execution_count": 20,
     "metadata": {},
     "output_type": "execute_result"
    }
   ],
   "source": [
    "# add value to the start of a list  - First Nations Bank of Canada\n",
    "banks.insert(0, \"FNBC\")\n",
    "print(banks)\n",
    "\n",
    "# Return the length of the list\n",
    "len(banks)\n"
   ]
  },
  {
   "cell_type": "code",
   "execution_count": 21,
   "metadata": {},
   "outputs": [
    {
     "name": "stdout",
     "output_type": "stream",
     "text": [
      "['FNBC', 'Scotiabank', 'CIBC', 'TD', 'CWB']\n"
     ]
    }
   ],
   "source": [
    "# Remove list entries\n",
    "del banks[4]\n",
    "print(banks)\n"
   ]
  },
  {
   "cell_type": "markdown",
   "metadata": {
    "colab_type": "text",
    "id": "wXc2JMEfaK5l"
   },
   "source": [
    "<h1>Dictionaries</h1>\n",
    "<ul>\n",
    "  <li>\n",
    "   Collection of key-value pairs\n",
    "  <li>\n",
    "   No positions as with lists, values stored at specific key\n",
    "    <ul><li>keys can be of any data type</li></ul>\n",
    "  </li>\n",
    "  <li>Accessing values in a dictionary can still be done with square brackets ([ ])</li>\n",
    "  <li>Declared using braces ({ })</li>\n",
    "</ul>"
   ]
  },
  {
   "cell_type": "code",
   "execution_count": 22,
   "metadata": {
    "colab": {
     "base_uri": "https://localhost:8080/",
     "height": 35
    },
    "colab_type": "code",
    "id": "A-QawQmfaK5m",
    "outputId": "07f219ad-d36f-43b6-c420-fbdf8bd2c6d7"
   },
   "outputs": [
    {
     "name": "stdout",
     "output_type": "stream",
     "text": [
      "{'name': 'Peter', 'employee_num': 314425, 'workplace': 'RBC'}\n"
     ]
    }
   ],
   "source": [
    "# collection of \"data\" which is unordered, changeable, and not indexed. They have keys and values.\n",
    "employee = { \"name\": \"Peter\", \"employee_num\": 314425, \"workplace\": \"RBC\"} \n",
    "# Here, 'name', 'employee_num', and 'department' are keys, and 'Peter', '314425', and 'IT' are the corresponding values\n",
    "print(employee)\n"
   ]
  },
  {
   "cell_type": "code",
   "execution_count": 23,
   "metadata": {
    "colab": {
     "base_uri": "https://localhost:8080/",
     "height": 35
    },
    "colab_type": "code",
    "id": "rzwYuDyzJ8G4",
    "outputId": "edc12735-e0fc-45e0-e2ff-dffdc395572a"
   },
   "outputs": [
    {
     "data": {
      "text/plain": [
       "'Peter'"
      ]
     },
     "execution_count": 23,
     "metadata": {},
     "output_type": "execute_result"
    }
   ],
   "source": [
    "# Access key values using ['key_name']\n",
    "employee[\"name\"]\n"
   ]
  },
  {
   "cell_type": "code",
   "execution_count": 24,
   "metadata": {
    "colab": {
     "base_uri": "https://localhost:8080/",
     "height": 35
    },
    "colab_type": "code",
    "id": "wJx3xhdTaK53",
    "outputId": "99cd071b-e5fb-46a4-cc6d-9889fece360c"
   },
   "outputs": [
    {
     "name": "stdout",
     "output_type": "stream",
     "text": [
      "TD\n"
     ]
    }
   ],
   "source": [
    "# Reassign a key value\n",
    "employee[\"workplace\"] = \"TD\"\n",
    "print(employee[\"workplace\"])\n"
   ]
  },
  {
   "cell_type": "code",
   "execution_count": 25,
   "metadata": {
    "colab": {
     "base_uri": "https://localhost:8080/",
     "height": 35
    },
    "colab_type": "code",
    "id": "p-yZS2YhOxsj",
    "outputId": "3f4d5d3d-05e1-463d-cd87-0dd71fb5b873"
   },
   "outputs": [
    {
     "name": "stdout",
     "output_type": "stream",
     "text": [
      "{'name': 'Peter', 'employee_num': 314425, 'workplace': 'TD', 'management': False}\n"
     ]
    }
   ],
   "source": [
    "# Add a new key \n",
    "employee[\"management\"] = False\n",
    "print(employee)\n"
   ]
  },
  {
   "cell_type": "code",
   "execution_count": 26,
   "metadata": {
    "colab": {
     "base_uri": "https://localhost:8080/",
     "height": 35
    },
    "colab_type": "code",
    "id": "dkhRkqy5PPNE",
    "outputId": "6e71036d-4e03-4cd9-a498-bb954e26296e"
   },
   "outputs": [
    {
     "name": "stdout",
     "output_type": "stream",
     "text": [
      "{'name': 'Peter', 'employee_num': 314425, 'workplace': 'TD'}\n"
     ]
    }
   ],
   "source": [
    "# Can remove a key easily using del\n",
    "# Other keys are unaffected when you use 'del' to remove a key\n",
    "del employee[\"management\"]\n",
    "print(employee)\n"
   ]
  },
  {
   "cell_type": "code",
   "execution_count": 27,
   "metadata": {
    "colab": {
     "base_uri": "https://localhost:8080/",
     "height": 72
    },
    "colab_type": "code",
    "id": "97-n_HSONDV2",
    "outputId": "57c9920c-9dda-43d9-f9d8-4b1ca8a9aea1"
   },
   "outputs": [
    {
     "name": "stdout",
     "output_type": "stream",
     "text": [
      "dict_items([('name', 'Peter'), ('employee_num', 314425), ('workplace', 'TD')])\n",
      "dict_keys(['name', 'employee_num', 'workplace'])\n",
      "dict_values(['Peter', 314425, 'TD'])\n"
     ]
    }
   ],
   "source": [
    "#Dictionary methods return iterables\n",
    "print(employee.items())\n",
    "print(employee.keys())\n",
    "print(employee.values())\n",
    "\n",
    "# Cannot do print(employee.keys[0]) because it is not a list\n",
    "# Iterables are data objects that can be 'interated' over, like in loops \n",
    "# Iterables to be used with keyword IN ('IN' example is covered in the next cell blocks and section with 'For' Loops)\n"
   ]
  },
  {
   "cell_type": "code",
   "execution_count": 28,
   "metadata": {
    "colab": {
     "base_uri": "https://localhost:8080/",
     "height": 54
    },
    "colab_type": "code",
    "id": "LGYrHaqDaK58",
    "outputId": "42bfbe90-f0e2-476a-8d12-3c503e2da718"
   },
   "outputs": [
    {
     "name": "stdout",
     "output_type": "stream",
     "text": [
      "Yes, name is one of the keys in this dictionary\n"
     ]
    }
   ],
   "source": [
    "# You can use dictionaries and lists in 'if' statments. \n",
    "\n",
    "#Will look through keys by default\n",
    "if \"name\" in employee:\n",
    "    print(\"Yes, name is one of the keys in this dictionary\")\n",
    "else:\n",
    "    print(\"no\")\n",
    "     "
   ]
  },
  {
   "cell_type": "markdown",
   "metadata": {
    "colab_type": "text",
    "id": "WJWuZpCQaK6O"
   },
   "source": [
    "<h1>For Loops</h1>\n",
    "<ul>\n",
    "  <li>\n",
    "   Execute a block of code once for each item in collection (List/Dictionary)\n",
    "  <li>\n",
    "   Declare temporary variable to iterate through collection\n",
    "  </li>\n",
    "  <li>Can be used in combination with IF statements</li>\n",
    "</ul>"
   ]
  },
  {
   "cell_type": "code",
   "execution_count": 29,
   "metadata": {
    "colab": {
     "base_uri": "https://localhost:8080/",
     "height": 72
    },
    "colab_type": "code",
    "id": "ecaoxp7kaK6O",
    "outputId": "5142d207-5b80-45ad-f7dd-33a3ed2b7041"
   },
   "outputs": [
    {
     "name": "stdout",
     "output_type": "stream",
     "text": [
      "FNBC\n",
      "Scotiabank\n",
      "CIBC\n",
      "TD\n",
      "CWB\n"
     ]
    }
   ],
   "source": [
    "#Loop through banks list\n",
    "for bank in banks:\n",
    "    print(bank)\n"
   ]
  },
  {
   "cell_type": "code",
   "execution_count": 30,
   "metadata": {
    "colab": {
     "base_uri": "https://localhost:8080/",
     "height": 72
    },
    "colab_type": "code",
    "id": "QFOWeKn3mxnK",
    "outputId": "cd1a2515-5b3c-4f81-8b0a-420dec069ccf"
   },
   "outputs": [
    {
     "name": "stdout",
     "output_type": "stream",
     "text": [
      "name\n",
      "employee_num\n",
      "workplace\n",
      "name: Peter\n",
      "employee_num: 314425\n",
      "workplace: TD\n"
     ]
    }
   ],
   "source": [
    "#Loop through pairs in employee dictionary\n",
    "for key in employee:\n",
    "    print(key)\n",
    "\n",
    "for key, value in employee.items():\n",
    "    print(f\"{key}: {value}\")\n",
    "      "
   ]
  },
  {
   "cell_type": "code",
   "execution_count": 31,
   "metadata": {
    "colab": {
     "base_uri": "https://localhost:8080/",
     "height": 128
    },
    "colab_type": "code",
    "id": "-ct-QUFiSuFt",
    "outputId": "eaf7cee7-6d9e-4c64-a3f0-73e44e8836ef"
   },
   "outputs": [
    {
     "name": "stdout",
     "output_type": "stream",
     "text": [
      "0\n",
      "1\n",
      "2\n",
      "3\n",
      "4\n"
     ]
    }
   ],
   "source": [
    "# Use RANGE to specify a number of iterations \n",
    "for i in range(len(banks)): # The len() function returns the length of the previously defined 'banks' list \n",
    "    print(i)\n"
   ]
  },
  {
   "cell_type": "code",
   "execution_count": 32,
   "metadata": {},
   "outputs": [
    {
     "name": "stdout",
     "output_type": "stream",
     "text": [
      "1\n",
      "3\n",
      "5\n",
      "7\n",
      "9\n",
      "11\n",
      "13\n",
      "15\n",
      "17\n",
      "19\n",
      "21\n"
     ]
    }
   ],
   "source": [
    "# Make a loop that prints all odd values from 1 to 21\n",
    "for i in range(1,22,2):\n",
    "    print(i)"
   ]
  },
  {
   "cell_type": "markdown",
   "metadata": {
    "colab_type": "text",
    "id": "2-X8mOzmaK6D"
   },
   "source": [
    "<h1>Functions</h1>\n",
    "<ul>\n",
    "  <li>\n",
    "   Named blocks of code that do one specific job\n",
    "  <li>\n",
    "   Functions are also referred to as methods\n",
    "  <li>\n",
    "   Prevents rewriting of code that accomplishes the same task\n",
    "  </li>\n",
    "  <li>Keyword <i>def</i> used to declare functions</li>\n",
    "  <li>Variables may be passed to functions</li>\n",
    "</ul>"
   ]
  },
  {
   "cell_type": "code",
   "execution_count": 33,
   "metadata": {
    "colab": {
     "base_uri": "https://localhost:8080/",
     "height": 35
    },
    "colab_type": "code",
    "id": "VyAdfwXYkjy-",
    "outputId": "78a46710-4824-4906-d1cb-9aabc0636602"
   },
   "outputs": [
    {
     "name": "stdout",
     "output_type": "stream",
     "text": [
      "Mike - Employee Number: 12210 - works at: CIBC\n",
      "Peter - Employee Number: 314425 - works at: TD\n"
     ]
    }
   ],
   "source": [
    "# In this function 'name', 'employee_num', and 'department' are required values that must be passed to the function\n",
    "def description(name, employee_num, workplace): \n",
    "    print(f\"{name} - Employee Number: {employee_num} - works at: {workplace}\")\n",
    "\n",
    "description(\"Mike\", 12210, \"CIBC\") \n",
    "description(employee['name'], employee['employee_num'], employee['workplace'])\n"
   ]
  },
  {
   "cell_type": "markdown",
   "metadata": {
    "colab_type": "text",
    "id": "NhfExVHy3PfA"
   },
   "source": [
    "<h1>Classes</h1>\n",
    "<ul>\n",
    "    <li><b>NOTE: We cover classes in the next section, but here's a primer if you're interested</b>\n",
    "  <li>\n",
    "  Object-orientated programming approach popular and efficient\n",
    "  </li>\n",
    "  <li>\n",
    "   Define classes of real-world things or situations (can be thought of as creating your own data type)\n",
    "    <ul>\n",
    "      <li>Attributes of various data types</li>\n",
    "      <li>Functions inside of a class are the same except called methods</li>\n",
    "      <li>Methods may be accessed using the dot operator</li>\n",
    "    </ul>\n",
    "  </li>\n",
    "  <li>Instanciate objects of your classes</li>\n",
    "  <li>__init()__ method used to prefill attributes</li>\n",
    "  <li>Capitalize class names</li>\n",
    "</ul>"
   ]
  },
  {
   "cell_type": "code",
   "execution_count": 34,
   "metadata": {
    "colab": {},
    "colab_type": "code",
    "id": "TArB_90h4wzt"
   },
   "outputs": [],
   "source": [
    "class Employee():    \n",
    "    \"\"\"A simple attempt to represent am employee.\"\"\"\n",
    "    def __init__(self, name, employee_num, department ):        \n",
    "        self.name = name\n",
    "        self.employee_num = employee_num        \n",
    "        self.department = department        \n",
    "        \n",
    "        \n",
    "    def description(self): # Creating a function (a.k.a method) that can be used by instances of this class\n",
    "        print(f\"{self.name} (employee number: {self.employee_num}) - Dept: {self.department}\") \n",
    "    \n",
    "    "
   ]
  },
  {
   "cell_type": "code",
   "execution_count": 35,
   "metadata": {
    "colab": {
     "base_uri": "https://localhost:8080/",
     "height": 35
    },
    "colab_type": "code",
    "id": "AF9224My4xFo",
    "outputId": "a761ca25-9a28-419b-e203-a3dd3c8d7ae3"
   },
   "outputs": [
    {
     "name": "stdout",
     "output_type": "stream",
     "text": [
      "Mike (employee number: 12210) - Dept: Marketing\n",
      "Peter (employee number: 31445) - Dept: IT\n"
     ]
    }
   ],
   "source": [
    "employee1 = Employee(\"Mike\", 12210, \"Marketing\")\n",
    "employee2 = Employee(\"Peter\", 31445, \"IT\")\n",
    "employee1.description()\n",
    "employee2.description()\n",
    "\n"
   ]
  },
  {
   "cell_type": "markdown",
   "metadata": {
    "colab_type": "text",
    "id": "DNRcacpoQTxp"
   },
   "source": [
    "<h1>User Input</h1>\n",
    "<ul>\n",
    "  <li><b>OPTIONAL: Not covred during the bootcamp.</b> Just some extra content if you're interested!\n",
    "  <li>\n",
    "     Pauses your program and waits for the user to enter some text\n",
    "  <li>\n",
    "    Variable used with Input() will be a <b>string</b> even if user inputs an integer\n",
    "  </li>\n",
    "  <ul><li>Will need to make use of <b>type casting.</b></li></ul>\n",
    "</ul>"
   ]
  },
  {
   "cell_type": "code",
   "execution_count": 36,
   "metadata": {
    "colab": {
     "base_uri": "https://localhost:8080/",
     "height": 72
    },
    "colab_type": "code",
    "id": "S7GgUjhIFdMg",
    "outputId": "680735bc-519a-494a-c7b1-f195bae67de5"
   },
   "outputs": [
    {
     "name": "stdout",
     "output_type": "stream",
     "text": [
      "Enter your age.\n",
      "22\n",
      "Entered age is 22\n",
      "You were born in 1998\n"
     ]
    }
   ],
   "source": [
    "#Ask user for a name\n",
    "my_age = input(\"Enter your age.\\n\")\n",
    "print(f\"Entered age is {my_age}\")\n",
    "print(f\"You were born in {2020 - int(my_age)}\")\n"
   ]
  },
  {
   "cell_type": "markdown",
   "metadata": {},
   "source": [
    "<h1>Putting it all Together</h1>\n",
    "<ul>\n",
    "    <li> This is an optional section - a great way to practice everything we've learned!\n",
    "  <li>\n",
    "      Note that to do this, you're expected to know both <b>classes</b> and <b>input</b>\n",
    "  <li>\n",
    "      Let's create a new <b>Employee</b>\n",
    "  <li>\n",
    "    We can then use our class methods easily!\n",
    "  </li>\n",
    "</ul>"
   ]
  },
  {
   "cell_type": "code",
   "execution_count": 37,
   "metadata": {},
   "outputs": [
    {
     "name": "stdout",
     "output_type": "stream",
     "text": [
      "Enter your name, employee number and department.\n",
      "Seamus 3453243 Bootcamps\n",
      "Seamus (employee number: 3453243) - Dept: Bootcamps\n"
     ]
    }
   ],
   "source": [
    "employee_input = input(\"Enter your name, employee number and department.\\n\")\n",
    "name = employee_input.split(' ')[0]\n",
    "employee_num = employee_input.split(' ')[1]\n",
    "department = employee_input.split(' ')[2]\n",
    "new_employee = Employee(name,employee_num,department)\n",
    "new_employee.description()"
   ]
  },
  {
   "cell_type": "code",
   "execution_count": null,
   "metadata": {},
   "outputs": [],
   "source": []
  }
 ],
 "metadata": {
  "colab": {
   "collapsed_sections": [],
   "name": "Class 1 - Master.ipynb",
   "provenance": [],
   "version": "0.3.2"
  },
  "kernelspec": {
   "display_name": "Python 3",
   "language": "python",
   "name": "python3"
  },
  "language_info": {
   "codemirror_mode": {
    "name": "ipython",
    "version": 3
   },
   "file_extension": ".py",
   "mimetype": "text/x-python",
   "name": "python",
   "nbconvert_exporter": "python",
   "pygments_lexer": "ipython3",
   "version": "3.8.5"
  }
 },
 "nbformat": 4,
 "nbformat_minor": 1
}
